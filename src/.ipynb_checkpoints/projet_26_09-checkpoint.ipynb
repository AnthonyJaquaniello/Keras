{
 "cells": [
  {
   "cell_type": "code",
   "execution_count": 435,
   "metadata": {},
   "outputs": [],
   "source": [
    "import keras\n",
    "import numpy as np\n",
    "from keras import Sequential\n",
    "from sklearn.preprocessing import LabelEncoder #pour le one_hot_encoding.\n",
    "from keras.layers import Dense, Flatten, TimeDistributed #Flatten pour mettre à plat une matrice.\n",
    "from keras import Input, Model\n",
    "from keras.layers import add, Activation #add pour sommer les couches\n",
    "from keras.layers import Conv1D, AveragePooling1D #pour le pooling et la convolution."
   ]
  },
  {
   "cell_type": "markdown",
   "metadata": {},
   "source": [
    "# Prédiction de structure secondaire par réseau de convolution."
   ]
  },
  {
   "cell_type": "markdown",
   "metadata": {},
   "source": [
    "## 1) Processing des données"
   ]
  },
  {
   "cell_type": "markdown",
   "metadata": {},
   "source": [
    "### a) Training_set"
   ]
  },
  {
   "cell_type": "code",
   "execution_count": 596,
   "metadata": {},
   "outputs": [],
   "source": [
    "#extraction des seq\n",
    "x_train = []\n",
    "\n",
    "with open(\"../data/train.fasta\", \"r\") as file:\n",
    "    for line in file:\n",
    "        x_train.append(list(line[:-1]))"
   ]
  },
  {
   "cell_type": "code",
   "execution_count": 597,
   "metadata": {},
   "outputs": [],
   "source": [
    "#completion avec des \"0\" jusqu'a 759\n",
    "for seq in x_train:\n",
    "    while len(seq) < 760:\n",
    "        seq.append(\"J\")"
   ]
  },
  {
   "cell_type": "code",
   "execution_count": 598,
   "metadata": {},
   "outputs": [
    {
     "name": "stdout",
     "output_type": "stream",
     "text": [
      "760\n",
      "1348\n"
     ]
    }
   ],
   "source": [
    "print(len(x_train[1]))\n",
    "print(len(x_train))"
   ]
  },
  {
   "cell_type": "code",
   "execution_count": 599,
   "metadata": {},
   "outputs": [],
   "source": [
    "#extraction des ddsp:\n",
    "y_train = []\n",
    "\n",
    "with open(\"../data/train.dssp\", 'r') as file:\n",
    "    for line in file:\n",
    "        y_train.append(list(line[:-1]))"
   ]
  },
  {
   "cell_type": "code",
   "execution_count": 600,
   "metadata": {},
   "outputs": [],
   "source": [
    "#completion jusqu'a 759:\n",
    "for d in y_train:\n",
    "    while len(d) < 760:\n",
    "        d.append(\"*\")"
   ]
  },
  {
   "cell_type": "code",
   "execution_count": 601,
   "metadata": {},
   "outputs": [
    {
     "name": "stdout",
     "output_type": "stream",
     "text": [
      "760\n",
      "1348\n"
     ]
    }
   ],
   "source": [
    "print(len(y_train[1]))\n",
    "print(len(y_train))"
   ]
  },
  {
   "cell_type": "code",
   "execution_count": 602,
   "metadata": {},
   "outputs": [
    {
     "name": "stdout",
     "output_type": "stream",
     "text": [
      "(1348, 760, 21)\n",
      "(1348, 760, 21)\n"
     ]
    }
   ],
   "source": [
    "#traduction des X en one_hot_encoding:\n",
    "all_one_hot_x_train = np.zeros((1348,760,21))\n",
    "\n",
    "print(all_one_hot_x_train.shape)\n",
    "classes = LabelEncoder()\n",
    "\n",
    "for i in range(0,len(x_train)):    \n",
    "    classes.fit(x_train[i])\n",
    "    classes_i = classes.transform(x_train[i])\n",
    "    one_hot_i = keras.utils.to_categorical(classes_i, num_classes= 21)  \n",
    "    all_one_hot_x_train[i,:,:] = one_hot_i\n",
    "print(all_one_hot_x_train.shape)"
   ]
  },
  {
   "cell_type": "code",
   "execution_count": 603,
   "metadata": {},
   "outputs": [
    {
     "name": "stdout",
     "output_type": "stream",
     "text": [
      "(1348, 760, 4)\n",
      "(1348, 760, 4)\n"
     ]
    }
   ],
   "source": [
    "#traduction des Y en one_hot_encoding:\n",
    "all_one_hot_y_train = np.zeros((1348,760,4))\n",
    "\n",
    "print(all_one_hot_y_train.shape)\n",
    "classes = LabelEncoder()\n",
    "\n",
    "for j in range(0,len(y_train)):    \n",
    "    classes.fit(y_train[j])\n",
    "    classes_j = classes.transform(y_train[j])\n",
    "    one_hot_j = keras.utils.to_categorical(classes_j, num_classes= 4)\n",
    "    all_one_hot_y_train[j,:,:] = one_hot_j\n",
    "print(all_one_hot_y_train.shape)"
   ]
  },
  {
   "cell_type": "markdown",
   "metadata": {},
   "source": [
    "### b) Testing_set"
   ]
  },
  {
   "cell_type": "code",
   "execution_count": 604,
   "metadata": {},
   "outputs": [],
   "source": [
    "#extraction des seq\n",
    "x_test = []\n",
    "\n",
    "with open(\"../data/blind.fasta\", \"r\") as file:\n",
    "    for line in file:\n",
    "        x_test.append(list(line[:-1]))"
   ]
  },
  {
   "cell_type": "code",
   "execution_count": 605,
   "metadata": {},
   "outputs": [],
   "source": [
    "#completion avec des \"0\" jusqu'a 759\n",
    "for seq in x_test:\n",
    "    while len(seq) < 760:\n",
    "        seq.append(\"0\")"
   ]
  },
  {
   "cell_type": "code",
   "execution_count": 606,
   "metadata": {},
   "outputs": [],
   "source": [
    "y_test = []\n",
    "\n",
    "with open(\"../data/blind.dssp\", 'r') as file:\n",
    "    for line in file:\n",
    "        y_test.append(list(line[:-1]))"
   ]
  },
  {
   "cell_type": "code",
   "execution_count": 607,
   "metadata": {},
   "outputs": [],
   "source": [
    "#completion jusqu'a 759:\n",
    "for d in y_test:\n",
    "    while len(d) < 760:\n",
    "        d.append(\"0\")"
   ]
  },
  {
   "cell_type": "code",
   "execution_count": 608,
   "metadata": {},
   "outputs": [
    {
     "name": "stdout",
     "output_type": "stream",
     "text": [
      "149\n",
      "149\n"
     ]
    }
   ],
   "source": [
    "print(len(x_test))\n",
    "print(len(y_test))"
   ]
  },
  {
   "cell_type": "code",
   "execution_count": 609,
   "metadata": {},
   "outputs": [
    {
     "name": "stdout",
     "output_type": "stream",
     "text": [
      "(149, 760, 21)\n",
      "(149, 760, 21)\n"
     ]
    }
   ],
   "source": [
    "#traduction des X en one_hot_encoding:\n",
    "all_one_hot_x_test = np.zeros((149,760,21))\n",
    "\n",
    "print(all_one_hot_x_test.shape)\n",
    "classes = LabelEncoder()\n",
    "\n",
    "for i in range(0,len(x_test)):    \n",
    "    classes.fit(x_test[i])\n",
    "    classes_i = classes.transform(x_test[i])\n",
    "    one_hot_i = keras.utils.to_categorical(classes_i, num_classes = 21)  \n",
    "    all_one_hot_x_test[i,:,:] = one_hot_i\n",
    "print(all_one_hot_x_test.shape)"
   ]
  },
  {
   "cell_type": "code",
   "execution_count": 610,
   "metadata": {},
   "outputs": [
    {
     "name": "stdout",
     "output_type": "stream",
     "text": [
      "(149, 760, 4)\n",
      "(149, 760, 4)\n"
     ]
    }
   ],
   "source": [
    "#traduction des Y en one_hot_encoding:\n",
    "all_one_hot_y_test = np.zeros((149,760,4))\n",
    "print(all_one_hot_y_test.shape)\n",
    "classes = LabelEncoder()\n",
    "\n",
    "for j in range(0,len(y_test)):    \n",
    "    classes.fit(y_test[j])\n",
    "    classes_j = classes.transform(y_test[j])\n",
    "    one_hot_j = keras.utils.to_categorical(classes_j, num_classes = 4)\n",
    "    all_one_hot_y_test[j,:,:] = one_hot_j\n",
    "print(all_one_hot_y_test.shape)"
   ]
  },
  {
   "cell_type": "markdown",
   "metadata": {},
   "source": [
    "## 2) Construction du réseau CNN"
   ]
  },
  {
   "cell_type": "code",
   "execution_count": 611,
   "metadata": {},
   "outputs": [],
   "source": [
    "model = Sequential()\n",
    "model.add(Conv1D(filters=21, kernel_size=3, strides=1, padding= \"same\", activation = \"relu\"))\n",
    "model.add(Conv1D(filters=21, kernel_size=3, strides=1, padding= \"same\", activation = \"relu\"))\n",
    "#model.add(AveragePooling1D(pool_size = 3))\n",
    "model.add(TimeDistributed(Dense(4,activation = \"softmax\")))"
   ]
  },
  {
   "cell_type": "code",
   "execution_count": 621,
   "metadata": {},
   "outputs": [
    {
     "name": "stdout",
     "output_type": "stream",
     "text": [
      "Model: \"sequential_42\"\n",
      "_________________________________________________________________\n",
      "Layer (type)                 Output Shape              Param #   \n",
      "=================================================================\n",
      "conv1d_80 (Conv1D)           (None, 760, 21)           1344      \n",
      "_________________________________________________________________\n",
      "conv1d_81 (Conv1D)           (None, 760, 21)           1344      \n",
      "_________________________________________________________________\n",
      "time_distributed_38 (TimeDis (None, 760, 4)            88        \n",
      "=================================================================\n",
      "Total params: 2,776\n",
      "Trainable params: 2,776\n",
      "Non-trainable params: 0\n",
      "_________________________________________________________________\n"
     ]
    }
   ],
   "source": [
    "model.summary()"
   ]
  },
  {
   "cell_type": "code",
   "execution_count": 613,
   "metadata": {},
   "outputs": [],
   "source": [
    "model.compile(optimizer=\"rmsprop\",loss=\"categorical_crossentropy\",metrics=['accuracy'])"
   ]
  },
  {
   "cell_type": "code",
   "execution_count": 614,
   "metadata": {
    "collapsed": true,
    "jupyter": {
     "outputs_hidden": true
    }
   },
   "outputs": [
    {
     "name": "stdout",
     "output_type": "stream",
     "text": [
      "Epoch 1/100\n",
      "149/149 [==============================] - 1s 8ms/step - loss: 1.3087 - accuracy: 0.6891\n",
      "Epoch 2/100\n",
      "149/149 [==============================] - 0s 1ms/step - loss: 1.1967 - accuracy: 0.8565\n",
      "Epoch 3/100\n",
      "149/149 [==============================] - 0s 1ms/step - loss: 1.1068 - accuracy: 0.8667\n",
      "Epoch 4/100\n",
      "149/149 [==============================] - 0s 1ms/step - loss: 1.0208 - accuracy: 0.8735\n",
      "Epoch 5/100\n",
      "149/149 [==============================] - 0s 1ms/step - loss: 0.9333 - accuracy: 0.8774\n",
      "Epoch 6/100\n",
      "149/149 [==============================] - 0s 1ms/step - loss: 0.8446 - accuracy: 0.8795\n",
      "Epoch 7/100\n",
      "149/149 [==============================] - 0s 1ms/step - loss: 0.7556 - accuracy: 0.8804\n",
      "Epoch 8/100\n",
      "149/149 [==============================] - 0s 1ms/step - loss: 0.6700 - accuracy: 0.8811\n",
      "Epoch 9/100\n",
      "149/149 [==============================] - 0s 1ms/step - loss: 0.5908 - accuracy: 0.8815\n",
      "Epoch 10/100\n",
      "149/149 [==============================] - 0s 1ms/step - loss: 0.5201 - accuracy: 0.8820\n",
      "Epoch 11/100\n",
      "149/149 [==============================] - 0s 1ms/step - loss: 0.4593 - accuracy: 0.8824\n",
      "Epoch 12/100\n",
      "149/149 [==============================] - 0s 1ms/step - loss: 0.4083 - accuracy: 0.8836\n",
      "Epoch 13/100\n",
      "149/149 [==============================] - 0s 2ms/step - loss: 0.3664 - accuracy: 0.8839\n",
      "Epoch 14/100\n",
      "149/149 [==============================] - 0s 1ms/step - loss: 0.3327 - accuracy: 0.8861\n",
      "Epoch 15/100\n",
      "149/149 [==============================] - 0s 2ms/step - loss: 0.3056 - accuracy: 0.8874\n",
      "Epoch 16/100\n",
      "149/149 [==============================] - 0s 1ms/step - loss: 0.2844 - accuracy: 0.8897\n",
      "Epoch 17/100\n",
      "149/149 [==============================] - 0s 1ms/step - loss: 0.2673 - accuracy: 0.8915\n",
      "Epoch 18/100\n",
      "149/149 [==============================] - 0s 1ms/step - loss: 0.2540 - accuracy: 0.8934\n",
      "Epoch 19/100\n",
      "149/149 [==============================] - 0s 1ms/step - loss: 0.2435 - accuracy: 0.8943\n",
      "Epoch 20/100\n",
      "149/149 [==============================] - 0s 1ms/step - loss: 0.2350 - accuracy: 0.8957\n",
      "Epoch 21/100\n",
      "149/149 [==============================] - 0s 1ms/step - loss: 0.2285 - accuracy: 0.8964\n",
      "Epoch 22/100\n",
      "149/149 [==============================] - 0s 2ms/step - loss: 0.2230 - accuracy: 0.8975\n",
      "Epoch 23/100\n",
      "149/149 [==============================] - 0s 1ms/step - loss: 0.2187 - accuracy: 0.8979\n",
      "Epoch 24/100\n",
      "149/149 [==============================] - 0s 1ms/step - loss: 0.2150 - accuracy: 0.8984\n",
      "Epoch 25/100\n",
      "149/149 [==============================] - 0s 1ms/step - loss: 0.2121 - accuracy: 0.8987\n",
      "Epoch 26/100\n",
      "149/149 [==============================] - 0s 1ms/step - loss: 0.2096 - accuracy: 0.8995\n",
      "Epoch 27/100\n",
      "149/149 [==============================] - 0s 1ms/step - loss: 0.2078 - accuracy: 0.8998\n",
      "Epoch 28/100\n",
      "149/149 [==============================] - 0s 1ms/step - loss: 0.2064 - accuracy: 0.9000\n",
      "Epoch 29/100\n",
      "149/149 [==============================] - 0s 1ms/step - loss: 0.2049 - accuracy: 0.9004\n",
      "Epoch 30/100\n",
      "149/149 [==============================] - 0s 1ms/step - loss: 0.2037 - accuracy: 0.9004\n",
      "Epoch 31/100\n",
      "149/149 [==============================] - 0s 1ms/step - loss: 0.2030 - accuracy: 0.9006\n",
      "Epoch 32/100\n",
      "149/149 [==============================] - 0s 1ms/step - loss: 0.2022 - accuracy: 0.9007\n",
      "Epoch 33/100\n",
      "149/149 [==============================] - 0s 1ms/step - loss: 0.2022 - accuracy: 0.9015\n",
      "Epoch 34/100\n",
      "149/149 [==============================] - 0s 1ms/step - loss: 0.2010 - accuracy: 0.9014\n",
      "Epoch 35/100\n",
      "149/149 [==============================] - 0s 1ms/step - loss: 0.2006 - accuracy: 0.9014\n",
      "Epoch 36/100\n",
      "149/149 [==============================] - 0s 1ms/step - loss: 0.2002 - accuracy: 0.9019\n",
      "Epoch 37/100\n",
      "149/149 [==============================] - 0s 1ms/step - loss: 0.2006 - accuracy: 0.9014\n",
      "Epoch 38/100\n",
      "149/149 [==============================] - 0s 1ms/step - loss: 0.1993 - accuracy: 0.9024\n",
      "Epoch 39/100\n",
      "149/149 [==============================] - 0s 1ms/step - loss: 0.1993 - accuracy: 0.9020\n",
      "Epoch 40/100\n",
      "149/149 [==============================] - 0s 1ms/step - loss: 0.1992 - accuracy: 0.9019\n",
      "Epoch 41/100\n",
      "149/149 [==============================] - 0s 2ms/step - loss: 0.1987 - accuracy: 0.9026\n",
      "Epoch 42/100\n",
      "149/149 [==============================] - 0s 1ms/step - loss: 0.1991 - accuracy: 0.9018\n",
      "Epoch 43/100\n",
      "149/149 [==============================] - 0s 1ms/step - loss: 0.1984 - accuracy: 0.9025\n",
      "Epoch 44/100\n",
      "149/149 [==============================] - 0s 1ms/step - loss: 0.1983 - accuracy: 0.9021\n",
      "Epoch 45/100\n",
      "149/149 [==============================] - 0s 1ms/step - loss: 0.1985 - accuracy: 0.9017\n",
      "Epoch 46/100\n",
      "149/149 [==============================] - 0s 1ms/step - loss: 0.1982 - accuracy: 0.9023\n",
      "Epoch 47/100\n",
      "149/149 [==============================] - 0s 1ms/step - loss: 0.1980 - accuracy: 0.9024\n",
      "Epoch 48/100\n",
      "149/149 [==============================] - 0s 1ms/step - loss: 0.1981 - accuracy: 0.9022\n",
      "Epoch 49/100\n",
      "149/149 [==============================] - 0s 1ms/step - loss: 0.1972 - accuracy: 0.9038\n",
      "Epoch 50/100\n",
      "149/149 [==============================] - 0s 1ms/step - loss: 0.1973 - accuracy: 0.9026\n",
      "Epoch 51/100\n",
      "149/149 [==============================] - 0s 1ms/step - loss: 0.1971 - accuracy: 0.9034\n",
      "Epoch 52/100\n",
      "149/149 [==============================] - 0s 1ms/step - loss: 0.1971 - accuracy: 0.9035\n",
      "Epoch 53/100\n",
      "149/149 [==============================] - 0s 1ms/step - loss: 0.1973 - accuracy: 0.9023\n",
      "Epoch 54/100\n",
      "149/149 [==============================] - 0s 1ms/step - loss: 0.1972 - accuracy: 0.9029\n",
      "Epoch 55/100\n",
      "149/149 [==============================] - 0s 1ms/step - loss: 0.1967 - accuracy: 0.9040\n",
      "Epoch 56/100\n",
      "149/149 [==============================] - 0s 1ms/step - loss: 0.1968 - accuracy: 0.9036\n",
      "Epoch 57/100\n",
      "149/149 [==============================] - 0s 1ms/step - loss: 0.1966 - accuracy: 0.9037\n",
      "Epoch 58/100\n",
      "149/149 [==============================] - 0s 1ms/step - loss: 0.1967 - accuracy: 0.9027\n",
      "Epoch 59/100\n",
      "149/149 [==============================] - 0s 1ms/step - loss: 0.1965 - accuracy: 0.9034\n",
      "Epoch 60/100\n",
      "149/149 [==============================] - 0s 1ms/step - loss: 0.1965 - accuracy: 0.9030\n",
      "Epoch 61/100\n",
      "149/149 [==============================] - 0s 2ms/step - loss: 0.1966 - accuracy: 0.9034\n",
      "Epoch 62/100\n",
      "149/149 [==============================] - 0s 2ms/step - loss: 0.1958 - accuracy: 0.9045\n",
      "Epoch 63/100\n",
      "149/149 [==============================] - 0s 2ms/step - loss: 0.1961 - accuracy: 0.9033\n",
      "Epoch 64/100\n",
      "149/149 [==============================] - 0s 1ms/step - loss: 0.1961 - accuracy: 0.9036\n",
      "Epoch 65/100\n",
      "149/149 [==============================] - 0s 1ms/step - loss: 0.1958 - accuracy: 0.9041\n",
      "Epoch 66/100\n",
      "149/149 [==============================] - 0s 1ms/step - loss: 0.1963 - accuracy: 0.9036\n",
      "Epoch 67/100\n",
      "149/149 [==============================] - 0s 1ms/step - loss: 0.1964 - accuracy: 0.9030\n",
      "Epoch 68/100\n",
      "149/149 [==============================] - 0s 1ms/step - loss: 0.1958 - accuracy: 0.9037\n",
      "Epoch 69/100\n",
      "149/149 [==============================] - 0s 1ms/step - loss: 0.1956 - accuracy: 0.9041\n",
      "Epoch 70/100\n",
      "149/149 [==============================] - 0s 1ms/step - loss: 0.1961 - accuracy: 0.9035\n",
      "Epoch 71/100\n",
      "149/149 [==============================] - 0s 1ms/step - loss: 0.1959 - accuracy: 0.9036\n",
      "Epoch 72/100\n",
      "149/149 [==============================] - 0s 1ms/step - loss: 0.1951 - accuracy: 0.9045\n",
      "Epoch 73/100\n",
      "149/149 [==============================] - 0s 2ms/step - loss: 0.1956 - accuracy: 0.9035\n",
      "Epoch 74/100\n",
      "149/149 [==============================] - 0s 1ms/step - loss: 0.1950 - accuracy: 0.9044\n",
      "Epoch 75/100\n",
      "149/149 [==============================] - 0s 2ms/step - loss: 0.1956 - accuracy: 0.9044\n",
      "Epoch 76/100\n",
      "149/149 [==============================] - 0s 1ms/step - loss: 0.1951 - accuracy: 0.9043\n",
      "Epoch 77/100\n",
      "149/149 [==============================] - 0s 1ms/step - loss: 0.1952 - accuracy: 0.9039\n",
      "Epoch 78/100\n",
      "149/149 [==============================] - 0s 1ms/step - loss: 0.1956 - accuracy: 0.9040\n",
      "Epoch 79/100\n",
      "149/149 [==============================] - 0s 1ms/step - loss: 0.1954 - accuracy: 0.9040\n",
      "Epoch 80/100\n",
      "149/149 [==============================] - 0s 1ms/step - loss: 0.1949 - accuracy: 0.9044\n",
      "Epoch 81/100\n",
      "149/149 [==============================] - 0s 1ms/step - loss: 0.1951 - accuracy: 0.9041\n",
      "Epoch 82/100\n",
      "149/149 [==============================] - 0s 1ms/step - loss: 0.1952 - accuracy: 0.9043\n",
      "Epoch 83/100\n",
      "149/149 [==============================] - 0s 1ms/step - loss: 0.1949 - accuracy: 0.9045\n",
      "Epoch 84/100\n",
      "149/149 [==============================] - 0s 1ms/step - loss: 0.1951 - accuracy: 0.9041\n",
      "Epoch 85/100\n",
      "149/149 [==============================] - 0s 1ms/step - loss: 0.1946 - accuracy: 0.9047\n",
      "Epoch 86/100\n",
      "149/149 [==============================] - 0s 1ms/step - loss: 0.1945 - accuracy: 0.9050\n",
      "Epoch 87/100\n",
      "149/149 [==============================] - 0s 2ms/step - loss: 0.1950 - accuracy: 0.9046\n",
      "Epoch 88/100\n",
      "149/149 [==============================] - 0s 1ms/step - loss: 0.1943 - accuracy: 0.9046\n",
      "Epoch 89/100\n",
      "149/149 [==============================] - 0s 1ms/step - loss: 0.1944 - accuracy: 0.9048\n",
      "Epoch 90/100\n",
      "149/149 [==============================] - 0s 1ms/step - loss: 0.1944 - accuracy: 0.9046\n",
      "Epoch 91/100\n",
      "149/149 [==============================] - 0s 1ms/step - loss: 0.1942 - accuracy: 0.9051\n",
      "Epoch 92/100\n",
      "149/149 [==============================] - 0s 1ms/step - loss: 0.1952 - accuracy: 0.9038\n",
      "Epoch 93/100\n",
      "149/149 [==============================] - 0s 1ms/step - loss: 0.1947 - accuracy: 0.9041\n",
      "Epoch 94/100\n",
      "149/149 [==============================] - 0s 1ms/step - loss: 0.1945 - accuracy: 0.9043\n",
      "Epoch 95/100\n",
      "149/149 [==============================] - 0s 1ms/step - loss: 0.1942 - accuracy: 0.9045\n",
      "Epoch 96/100\n",
      "149/149 [==============================] - 0s 1ms/step - loss: 0.1941 - accuracy: 0.9051\n",
      "Epoch 97/100\n",
      "149/149 [==============================] - 0s 1ms/step - loss: 0.1942 - accuracy: 0.9048\n",
      "Epoch 98/100\n",
      "149/149 [==============================] - 0s 1ms/step - loss: 0.1943 - accuracy: 0.9046\n",
      "Epoch 99/100\n",
      "149/149 [==============================] - 0s 1ms/step - loss: 0.1937 - accuracy: 0.9052\n",
      "Epoch 100/100\n",
      "149/149 [==============================] - 0s 1ms/step - loss: 0.1942 - accuracy: 0.9047\n"
     ]
    },
    {
     "data": {
      "text/plain": [
       "<keras.callbacks.callbacks.History at 0x7f62c8e110d0>"
      ]
     },
     "execution_count": 614,
     "metadata": {},
     "output_type": "execute_result"
    }
   ],
   "source": [
    "model.fit(all_one_hot_x_test,all_one_hot_y_test,epochs=100, batch_size = 30)"
   ]
  },
  {
   "cell_type": "code",
   "execution_count": 615,
   "metadata": {},
   "outputs": [
    {
     "name": "stdout",
     "output_type": "stream",
     "text": [
      "149/149 [==============================] - 1s 6ms/step\n",
      "[0.19379292508499735, 0.9050688743591309]\n"
     ]
    }
   ],
   "source": [
    "evaluation = model.evaluate(all_one_hot_x_test, all_one_hot_y_test)\n",
    "print(evaluation)"
   ]
  },
  {
   "cell_type": "markdown",
   "metadata": {},
   "source": [
    "Attention cependant, ces performaances sont trop élevées, cela doit venir des 0 et des '*' que l'on a ajouté pour compléter."
   ]
  },
  {
   "cell_type": "code",
   "execution_count": 616,
   "metadata": {},
   "outputs": [],
   "source": [
    "predictions = model.predict(all_one_hot_x_test)"
   ]
  },
  {
   "cell_type": "code",
   "execution_count": 338,
   "metadata": {},
   "outputs": [
    {
     "name": "stdout",
     "output_type": "stream",
     "text": [
      "[[6.4262701e-04 2.6572502e-01 3.6959460e-01 3.6403775e-01]\n",
      " [9.1757705e-05 2.7214795e-01 4.4501230e-01 2.8274798e-01]\n",
      " [5.9088008e-05 3.0065620e-01 3.8055032e-01 3.1873438e-01]\n",
      " ...\n",
      " [9.9998391e-01 1.0629631e-05 9.8438375e-07 4.5174593e-06]\n",
      " [9.9998391e-01 1.0629631e-05 9.8438375e-07 4.5174593e-06]\n",
      " [9.9948239e-01 2.2602608e-04 7.7003730e-05 2.1451579e-04]]\n",
      "(149, 760, 4)\n"
     ]
    }
   ],
   "source": [
    "print(predictions[0,:,:])\n",
    "print(predictions.shape)"
   ]
  },
  {
   "cell_type": "code",
   "execution_count": 464,
   "metadata": {
    "collapsed": true,
    "jupyter": {
     "outputs_hidden": true
    }
   },
   "outputs": [
    {
     "data": {
      "text/plain": [
       "array([0., 0., 0., 0., 0., 0., 0., 0., 0., 0., 0., 0., 0., 0., 0., 0., 0.,\n",
       "       0., 0., 0., 0., 0., 0., 0., 0., 0., 0., 0., 0., 0., 0., 0., 0., 0.,\n",
       "       0., 0., 0., 1., 1., 1., 1., 1., 0., 0., 0., 0., 0., 0., 0., 0., 0.,\n",
       "       0., 0., 0., 0., 0., 0., 0., 0., 0., 0., 0., 0., 0., 0., 0., 0., 0.,\n",
       "       0., 0., 0., 0., 0., 0., 0., 0., 0., 0., 0., 0., 0., 0., 0., 0., 0.,\n",
       "       0., 0., 0., 0., 0., 0., 0., 0., 0., 0., 0., 1., 1., 1., 1., 1., 1.,\n",
       "       1., 0., 0., 0., 0., 0., 0., 0., 0., 0., 0., 1., 1., 1., 1., 1., 1.,\n",
       "       1., 1., 1., 1., 1., 0., 0., 0., 0., 0., 0., 0., 0., 0., 0., 0., 0.,\n",
       "       0., 0., 1., 1., 1., 1., 1., 1., 1., 1., 1., 1., 0., 0., 0., 0., 0.,\n",
       "       0., 0., 0., 0., 0., 0., 0., 0., 0., 0., 0., 0., 0., 0., 0., 0., 0.,\n",
       "       0., 0., 0., 0., 0., 0., 0., 0., 0., 0., 0., 0., 0., 0., 0., 0., 0.,\n",
       "       0., 0., 0., 0., 0., 0., 0., 0., 0., 0., 0., 0., 0., 0., 0., 0., 0.,\n",
       "       0., 0., 0., 0., 0., 0., 0., 0., 0., 0., 0., 0., 0., 0., 0., 0., 0.,\n",
       "       0., 0., 0., 0., 0., 0., 0., 0., 0., 0., 0., 0., 0., 0., 0., 0., 0.,\n",
       "       0., 0., 0., 0., 0., 0., 0., 0., 0., 0., 0., 0., 0., 0., 0., 0., 0.,\n",
       "       0., 0., 0., 0., 0., 0., 0., 0., 0., 0., 0., 0., 0., 0., 0., 0., 0.,\n",
       "       0., 0., 0., 0., 0., 0., 0., 0., 0., 0., 0., 0., 0., 0., 0., 0., 0.,\n",
       "       0., 0., 0., 0., 0., 0., 0., 0., 0., 0., 0., 0., 0., 0., 0., 0., 0.,\n",
       "       0., 0., 0., 0., 0., 0., 0., 0., 0., 0., 0., 0., 0., 0., 0., 0., 0.,\n",
       "       0., 0., 0., 0., 0., 0., 0., 0., 0., 0., 0., 0., 0., 0., 0., 0., 0.,\n",
       "       0., 0., 0., 0., 0., 0., 0., 0., 0., 0., 0., 0., 0., 0., 0., 0., 0.,\n",
       "       0., 0., 0., 0., 0., 0., 0., 0., 0., 0., 0., 0., 0., 0., 0., 0., 0.,\n",
       "       0., 0., 0., 0., 0., 0., 0., 0., 0., 0., 0., 0., 0., 0., 0., 0., 0.,\n",
       "       0., 0., 0., 0., 0., 0., 0., 0., 0., 0., 0., 0., 0., 0., 0., 0., 0.,\n",
       "       0., 0., 0., 0., 0., 0., 0., 0., 0., 0., 0., 0., 0., 0., 0., 0., 0.,\n",
       "       0., 0., 0., 0., 0., 0., 0., 0., 0., 0., 0., 0., 0., 0., 0., 0., 0.,\n",
       "       0., 0., 0., 0., 0., 0., 0., 0., 0., 0., 0., 0., 0., 0., 0., 0., 0.,\n",
       "       0., 0., 0., 0., 0., 0., 0., 0., 0., 0., 0., 0., 0., 0., 0., 0., 0.,\n",
       "       0., 0., 0., 0., 0., 0., 0., 0., 0., 0., 0., 0., 0., 0., 0., 0., 0.,\n",
       "       0., 0., 0., 0., 0., 0., 0., 0., 0., 0., 0., 0., 0., 0., 0., 0., 0.,\n",
       "       0., 0., 0., 0., 0., 0., 0., 0., 0., 0., 0., 0., 0., 0., 0., 0., 0.,\n",
       "       0., 0., 0., 0., 0., 0., 0., 0., 0., 0., 0., 0., 0., 0., 0., 0., 0.,\n",
       "       0., 0., 0., 0., 0., 0., 0., 0., 0., 0., 0., 0., 0., 0., 0., 0., 0.,\n",
       "       0., 0., 0., 0., 0., 0., 0., 0., 0., 0., 0., 0., 0., 0., 0., 0., 0.,\n",
       "       0., 0., 0., 0., 0., 0., 0., 0., 0., 0., 0., 0., 0., 0., 0., 0., 0.,\n",
       "       0., 0., 0., 0., 0., 0., 0., 0., 0., 0., 0., 0., 0., 0., 0., 0., 0.,\n",
       "       0., 0., 0., 0., 0., 0., 0., 0., 0., 0., 0., 0., 0., 0., 0., 0., 0.,\n",
       "       0., 0., 0., 0., 0., 0., 0., 0., 0., 0., 0., 0., 0., 0., 0., 0., 0.,\n",
       "       0., 0., 0., 0., 0., 0., 0., 0., 0., 0., 0., 0., 0., 0., 0., 0., 0.,\n",
       "       0., 0., 0., 0., 0., 0., 0., 0., 0., 0., 0., 0., 0., 0., 0., 0., 0.,\n",
       "       0., 0., 0., 0., 0., 0., 0., 0., 0., 0., 0., 0., 0., 0., 0., 0., 0.,\n",
       "       0., 0., 0., 0., 0., 0., 0., 0., 0., 0., 0., 0., 0., 0., 0., 0., 0.,\n",
       "       0., 0., 0., 0., 0., 0., 0., 0., 0., 0., 0., 0., 0., 0., 0., 0., 0.,\n",
       "       0., 0., 0., 0., 0., 0., 0., 0., 0., 0., 0., 0., 0., 0., 0., 0., 0.,\n",
       "       0., 0., 0., 0., 0., 0., 0., 0., 0., 0., 0., 0.])"
      ]
     },
     "execution_count": 464,
     "metadata": {},
     "output_type": "execute_result"
    }
   ],
   "source": [
    "all_one_hot_y_test[0,:,3]"
   ]
  },
  {
   "cell_type": "code",
   "execution_count": 573,
   "metadata": {
    "collapsed": true,
    "jupyter": {
     "outputs_hidden": true
    }
   },
   "outputs": [
    {
     "data": {
      "text/plain": [
       "array([0., 0., 0., 0., 0., 0., 0., 0., 0., 0., 0., 0., 0., 0., 0., 0., 0.,\n",
       "       0., 0., 0., 0., 0., 0., 0., 0., 0., 0., 0., 0., 0., 0., 0., 0., 0.,\n",
       "       0., 0., 0., 1., 1., 1., 1., 1., 0., 0., 0., 0., 0., 0., 0., 0., 0.,\n",
       "       0., 0., 0., 0., 0., 0., 0., 0., 0., 0., 0., 0., 0., 0., 0., 0., 0.,\n",
       "       0., 0., 0., 0., 0., 0., 0., 0., 0., 0., 0., 0., 0., 0., 0., 0., 0.,\n",
       "       0., 0., 0., 0., 0., 0., 0., 0., 0., 0., 0., 1., 1., 1., 1., 1., 1.,\n",
       "       1., 0., 0., 0., 0., 0., 0., 0., 0., 0., 0., 1., 1., 1., 1., 1., 1.,\n",
       "       1., 1., 1., 1., 1., 0., 0., 0., 0., 0., 0., 0., 0., 0., 0., 0., 0.,\n",
       "       0., 0., 1., 1., 1., 1., 1., 1., 1., 1., 1., 1., 0., 0., 0., 0., 0.,\n",
       "       0., 0., 0., 0., 0., 0., 0., 0., 0., 0., 0., 0., 0., 0., 0., 0., 0.,\n",
       "       0., 0., 0., 0., 0., 0., 0., 0., 0., 0., 0., 0., 0., 0., 0., 0., 0.,\n",
       "       0., 0., 0., 0., 0., 0., 0., 0., 0., 0., 0., 0., 0., 0., 0., 0., 0.,\n",
       "       0., 0., 0., 0., 0., 0., 0., 0., 0., 0., 0., 0., 0., 0., 0., 0., 0.,\n",
       "       0., 0., 0., 0., 0., 0., 0., 0., 0., 0., 0., 0., 0., 0., 0., 0., 0.,\n",
       "       0., 0., 0., 0., 0., 0., 0., 0., 0., 0., 0., 0., 0., 0., 0., 0., 0.,\n",
       "       0., 0., 0., 0., 0., 0., 0., 0., 0., 0., 0., 0., 0., 0., 0., 0., 0.,\n",
       "       0., 0., 0., 0., 0., 0., 0., 0., 0., 0., 0., 0., 0., 0., 0., 0., 0.,\n",
       "       0., 0., 0., 0., 0., 0., 0., 0., 0., 0., 0., 0., 0., 0., 0., 0., 0.,\n",
       "       0., 0., 0., 0., 0., 0., 0., 0., 0., 0., 0., 0., 0., 0., 0., 0., 0.,\n",
       "       0., 0., 0., 0., 0., 0., 0., 0., 0., 0., 0., 0., 0., 0., 0., 0., 0.,\n",
       "       0., 0., 0., 0., 0., 0., 0., 0., 0., 0., 0., 0., 0., 0., 0., 0., 0.,\n",
       "       0., 0., 0., 0., 0., 0., 0., 0., 0., 0., 0., 0., 0., 0., 0., 0., 0.,\n",
       "       0., 0., 0., 0., 0., 0., 0., 0., 0., 0., 0., 0., 0., 0., 0., 0., 0.,\n",
       "       0., 0., 0., 0., 0., 0., 0., 0., 0., 0., 0., 0., 0., 0., 0., 0., 0.,\n",
       "       0., 0., 0., 0., 0., 0., 0., 0., 0., 0., 0., 0., 0., 0., 0., 0., 0.,\n",
       "       0., 0., 0., 0., 0., 0., 0., 0., 0., 0., 0., 0., 0., 0., 0., 0., 0.,\n",
       "       0., 0., 0., 0., 0., 0., 0., 0., 0., 0., 0., 0., 0., 0., 0., 0., 0.,\n",
       "       0., 0., 0., 0., 0., 0., 0., 0., 0., 0., 0., 0., 0., 0., 0., 0., 0.,\n",
       "       0., 0., 0., 0., 0., 0., 0., 0., 0., 0., 0., 0., 0., 0., 0., 0., 0.,\n",
       "       0., 0., 0., 0., 0., 0., 0., 0., 0., 0., 0., 0., 0., 0., 0., 0., 0.,\n",
       "       0., 0., 0., 0., 0., 0., 0., 0., 0., 0., 0., 0., 0., 0., 0., 0., 0.,\n",
       "       0., 0., 0., 0., 0., 0., 0., 0., 0., 0., 0., 0., 0., 0., 0., 0., 0.,\n",
       "       0., 0., 0., 0., 0., 0., 0., 0., 0., 0., 0., 0., 0., 0., 0., 0., 0.,\n",
       "       0., 0., 0., 0., 0., 0., 0., 0., 0., 0., 0., 0., 0., 0., 0., 0., 0.,\n",
       "       0., 0., 0., 0., 0., 0., 0., 0., 0., 0., 0., 0., 0., 0., 0., 0., 0.,\n",
       "       0., 0., 0., 0., 0., 0., 0., 0., 0., 0., 0., 0., 0., 0., 0., 0., 0.,\n",
       "       0., 0., 0., 0., 0., 0., 0., 0., 0., 0., 0., 0., 0., 0., 0., 0., 0.,\n",
       "       0., 0., 0., 0., 0., 0., 0., 0., 0., 0., 0., 0., 0., 0., 0., 0., 0.,\n",
       "       0., 0., 0., 0., 0., 0., 0., 0., 0., 0., 0., 0., 0., 0., 0., 0., 0.,\n",
       "       0., 0., 0., 0., 0., 0., 0., 0., 0., 0., 0., 0., 0., 0., 0., 0., 0.,\n",
       "       0., 0., 0., 0., 0., 0., 0., 0., 0., 0., 0., 0., 0., 0., 0., 0., 0.,\n",
       "       0., 0., 0., 0., 0., 0., 0., 0., 0., 0., 0., 0., 0., 0., 0., 0., 0.,\n",
       "       0., 0., 0., 0., 0., 0., 0., 0., 0., 0., 0., 0., 0., 0., 0., 0., 0.,\n",
       "       0., 0., 0., 0., 0., 0., 0., 0., 0., 0., 0., 0., 0., 0., 0., 0., 0.,\n",
       "       0., 0., 0., 0., 0., 0., 0., 0., 0., 0., 0., 0.])"
      ]
     },
     "execution_count": 573,
     "metadata": {},
     "output_type": "execute_result"
    }
   ],
   "source": [
    "all_one_hot_y_test[0,:,3]"
   ]
  },
  {
   "cell_type": "markdown",
   "metadata": {},
   "source": [
    "On a 4 classes (colonnes), avec 759 lignes (acides aminés)."
   ]
  },
  {
   "cell_type": "code",
   "execution_count": 620,
   "metadata": {},
   "outputs": [
    {
     "name": "stdout",
     "output_type": "stream",
     "text": [
      "tp = 1312\n",
      "tot = 5257\n",
      "ACC:24.957\n"
     ]
    }
   ],
   "source": [
    "\n",
    "predictions = model.predict(all_one_hot_x_test)\n",
    "\n",
    "tp = 0\n",
    "tn = 0\n",
    "fn = 0\n",
    "fp = 0\n",
    "tot = 0\n",
    "for i in range(len(predictions)):\n",
    "    for j in range(len(predictions[i])):\n",
    "        if all_one_hot_y_test[i,j,3] != 0.:\n",
    "            predmax = -1\n",
    "            predict_class = -1\n",
    "            true_class = -1\n",
    "            for k in range(len(predictions[i,j])):\n",
    "                if predmax < predictions[i,j,k]:\n",
    "                    predmax = predictions[i,j,k]\n",
    "                    predict_class=k\n",
    "                if all_one_hot_y_test[i,j,k] == 1.:\n",
    "                    true_class = k\n",
    "            if predict_class == true_class:\n",
    "                tp = tp+1\n",
    "            tot=tot+1\n",
    "print(\"tp =\", tp)\n",
    "print(\"tot =\", tot)\n",
    "print(\"ACC:%5.3f\"%(tp/tot*100))\n"
   ]
  },
  {
   "cell_type": "code",
   "execution_count": 618,
   "metadata": {},
   "outputs": [
    {
     "name": "stdout",
     "output_type": "stream",
     "text": [
      "5257\n",
      "1312\n",
      "ACC  0.249572\n"
     ]
    }
   ],
   "source": []
  },
  {
   "cell_type": "markdown",
   "metadata": {},
   "source": [
    "## 3) Réseau Resnet"
   ]
  },
  {
   "cell_type": "code",
   "execution_count": null,
   "metadata": {},
   "outputs": [],
   "source": [
    "def residual_module(lay_i, n_filters):\n",
    "    \"\"\"\n",
    "    Fonction de création de module.\n",
    "    \"\"\"\n",
    "    save = lay_i #on stocke la première couche dans une variable.\n",
    "    conv_1 = Conv1D(n_filters, (3), padding=\"same\", activation=\"relu\",\n",
    "                    kernel_initializer=\"he_normal\")(lay_i)\n",
    "    conv_2 = Conv1D(n_filters, (3), padding=\"same\", activation=\"linear\",\n",
    "                    kernel_initializer=\"he_normal\")(conv_1)\n",
    "    conc_1 = add([conv_2, save])\n",
    "    output = Activation(\"relu\")(conc_1)\n",
    "\n",
    "    return output\n",
    "\n",
    "def my_model7():\n",
    "    n_residual = 4 #on chaine 4 fois les modules\n",
    "    print(\"Simple residual network with {} modules\".format(n_residual))\n",
    "    inputs = Input(shape=(759, 21))\n",
    "    residual_i = inputs\n",
    "    for _ in range(n_residual):\n",
    "        residual_i = residual_module(residual_i, 20)\n",
    "\n",
    "    gavg_1 = AveragePooling1D((2), strides=(1))(residual_i)\n",
    "    flat_1 = Flatten()(gavg_1)\n",
    "    output = Dense(10, activation=\"softmax\")(flat_1)\n",
    "\n",
    "    model = Model(inputs=inputs, outputs=output)\n",
    "    #Pour l'API fonctionnelle\n",
    "\n",
    "#    plot_model(model, to_file=\"residual.png\",\n",
    "#               show_shapes=True, show_layer_names=True)\n",
    "    print(model.summary())\n",
    "\n",
    "    model.compile(optimizer=\"adam\", loss=\"categorical_crossentropy\", metrics=[\"accuracy\"])\n",
    "    return model\n"
   ]
  }
 ],
 "metadata": {
  "kernelspec": {
   "display_name": "Python 3",
   "language": "python",
   "name": "python3"
  },
  "language_info": {
   "codemirror_mode": {
    "name": "ipython",
    "version": 3
   },
   "file_extension": ".py",
   "mimetype": "text/x-python",
   "name": "python",
   "nbconvert_exporter": "python",
   "pygments_lexer": "ipython3",
   "version": "3.7.4"
  }
 },
 "nbformat": 4,
 "nbformat_minor": 4
}
